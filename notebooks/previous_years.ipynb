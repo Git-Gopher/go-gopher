{
 "cells": [
  {
   "cell_type": "markdown",
   "id": "50ee8906-7d0b-413c-91c2-33a6cf83d05d",
   "metadata": {},
   "source": [
    "# previous years\n",
    "goal of this is to process previous years work for any\n",
    "## datasets\n",
    "working on assignment 3 repos from 2020 and 2021 for softeng206, links should be pinned somewhere in our discord or shared on the google drive\n",
    "## configuration\n",
    "due to the fact that some detectors only work with the data that we have the config has been changed to this, see [default config for diff](../config/config.json)\n",
    "```json\n",
    "\n",
    "  \"detectors\": {\n",
    "    \"DiffMatchesMessageDetect\": {\n",
    "      \"enabled\": true,\n",
    "      \"weight\": 1\n",
    "    },\n",
    "    \"ShortCommitMessageDetect\": {\n",
    "      \"enabled\": true,\n",
    "      \"weight\": 1\n",
    "    },\n",
    "    \"DiffDistanceCalculation\": {\n",
    "      \"enabled\": true,\n",
    "      \"weight\": 1\n",
    "    },\n",
    "    \"BranchNameConsistencyDetect\": {\n",
    "      \"enabled\": true,\n",
    "      \"weight\": 1\n",
    "    },\n",
    "    \"CrissCrossMergeDetect\": {\n",
    "      \"enabled\": true,\n",
    "      \"weight\": 1\n",
    "    },\n",
    "    \"UnresolvedDetect\": {\n",
    "      \"enabled\": true,\n",
    "      \"weight\": 1\n",
    "    },\n",
    "    \"EmptyCommit\": {\n",
    "      \"enabled\": true,\n",
    "      \"weight\": 1\n",
    "    },\n",
    "    \"Binary\": {\n",
    "      \"enabled\": true,\n",
    "      \"weight\": 1\n",
    "    }\n",
    "  }\n",
    "}\n",
    "```\n",
    "save this as an `offline.json` config or use the below branch\n",
    "\n",
    "i had to make quite a few changes to get git-gopher working with offline only because we don't have access at all to their github remotes and i didn't want any of this merged. so for the moment all the code lives on [notebooks/plot](https://github.com/Git-Gopher/go-gopher/tree/notebooks/plot)\n",
    "\n",
    "\n",
    "get data with (use absolute dirs if debugging)\n",
    "```bash\n",
    "./bin/go-gopher-cli analyze --logging --config ~/Projects/go-gopher/config/offline.json batch /home/wqsz7xn/Desktop/data/assignment-3-and-project-2020\n",
    "```\n",
    "\n",
    "## limitations\n",
    "- don't have access to issue tracker, pull request and the rest of the remote data. this means that some (a lot) of the detectors that we have written have been disabled\n",
    "- limited attribution to violation/suggestion author due to no usernames from remotes\n",
    "- due to the above we think that the general **quality** of the data will be poor"
   ]
  },
  {
   "cell_type": "code",
   "execution_count": null,
   "id": "d9982d71-23cb-491a-9a0e-337788e40784",
   "metadata": {},
   "outputs": [],
   "source": [
    "def load(path: str):\n",
    "    fh = open(path)\n",
    "    data = json.load(fh)\n",
    "    fh.close()\n",
    "    return data\n",
    "\n",
    "data = load(\"\")"
   ]
  }
 ],
 "metadata": {
  "kernelspec": {
   "display_name": "Python 3 (ipykernel)",
   "language": "python",
   "name": "python3"
  },
  "language_info": {
   "codemirror_mode": {
    "name": "ipython",
    "version": 3
   },
   "file_extension": ".py",
   "mimetype": "text/x-python",
   "name": "python",
   "nbconvert_exporter": "python",
   "pygments_lexer": "ipython3",
   "version": "3.10.4"
  }
 },
 "nbformat": 4,
 "nbformat_minor": 5
}
